{
  "nbformat": 4,
  "nbformat_minor": 0,
  "metadata": {
    "colab": {
      "provenance": [],
      "include_colab_link": true
    },
    "kernelspec": {
      "name": "python3",
      "display_name": "Python 3"
    },
    "language_info": {
      "name": "python"
    }
  },
  "cells": [
    {
      "cell_type": "markdown",
      "metadata": {
        "id": "view-in-github",
        "colab_type": "text"
      },
      "source": [
        "<a href=\"https://colab.research.google.com/github/zrhans/fsc1189/blob/main/Algoritmo_e_programa%C3%A7%C3%A3o.ipynb\" target=\"_parent\"><img src=\"https://colab.research.google.com/assets/colab-badge.svg\" alt=\"Open In Colab\"/></a>"
      ]
    },
    {
      "cell_type": "code",
      "execution_count": 1,
      "metadata": {
        "id": "fYk910wwGp9r",
        "outputId": "258cbdf6-3290-4b28-ce0c-c1ad25b4c262",
        "colab": {
          "base_uri": "https://localhost:8080/"
        }
      },
      "outputs": [
        {
          "output_type": "stream",
          "name": "stdout",
          "text": [
            "Número de clicks no terceiro link:3\n",
            "O número de clicks no primeiro link é: 12\n"
          ]
        }
      ],
      "source": [
        "n = int(input(\"Número de clicks no terceiro link:\"))\n",
        "print(\"O número de clicks no primeiro link é:\",4*n)"
      ]
    },
    {
      "cell_type": "markdown",
      "source": [
        "✅"
      ],
      "metadata": {
        "id": "Lvkdxc0SwBjt"
      }
    },
    {
      "cell_type": "code",
      "source": [
        "\n",
        "vitC, empC, salC, ponC, vitF, empF, salF, ponF = 0, 0, 0, 0, 0, 0, 0, 0\n",
        "vitC, empC, salC = map(int,input(\"Digite o número de vitórias, empates e saldo de gols do time Cormengo: \").split())\n",
        "vitF, empF, salF = map(int,input(\"Digite o número de vitórias, empates e saldo de gols do time Flarinthians: \").split())\n",
        "\n",
        "resultado = 0\n",
        "ponC = 3*vitC + empC\n",
        "ponF = 3*vitF + empF\n",
        "\n",
        "if ponC > ponF: resultado = 1\n",
        "elif ponF > ponC: resultado = 2\n",
        "else:\n",
        "    if salC > salF: resultado = 1\n",
        "    elif salF > salC: resultado = 2\n",
        "    elif salC == salF: resultado = 0\n",
        "\n",
        "if resultado == 0: print(\"Empate\")\n",
        "if resultado == 1: print(\"Cormengo\")\n",
        "if resultado == 2: print(\"Flarinthians\")"
      ],
      "metadata": {
        "id": "J2u07NOSK5ar",
        "outputId": "0fd896e5-df0a-4ad1-f80a-e501d35be078",
        "colab": {
          "base_uri": "https://localhost:8080/"
        }
      },
      "execution_count": 4,
      "outputs": [
        {
          "output_type": "stream",
          "name": "stdout",
          "text": [
            "Digite o número de vitórias, empates e saldo de gols do time Cormengo: 4 2 6\n",
            "Digite o número de vitórias, empates e saldo de gols do time Flarinthians: 2 3 4\n",
            "Cormengo\n"
          ]
        }
      ]
    },
    {
      "cell_type": "markdown",
      "source": [
        "✅ Poderia ter colocado mensagens mais clara, como instrução do separador dos valores na entrada. Por exemplo, iniciei com vírgulas e pelo teu código é espaços entre os valores."
      ],
      "metadata": {
        "id": "Dpwu4yNVwoeB"
      }
    },
    {
      "cell_type": "code",
      "source": [
        "tamanho, pedacos = 1,1\n",
        "tamanho = int(input('Tamanho em cm do lado do quadrado: '))\n",
        "\n",
        "while tamanho >= 2:\n",
        "    pedacos *= 4\n",
        "    tamanho /= 2\n",
        "\n",
        "print(pedacos)"
      ],
      "metadata": {
        "id": "H5nUF3Dccbvc",
        "outputId": "4f6d61d1-650c-4fe3-9c54-b792540b692b",
        "colab": {
          "base_uri": "https://localhost:8080/"
        }
      },
      "execution_count": 5,
      "outputs": [
        {
          "output_type": "stream",
          "name": "stdout",
          "text": [
            "Tamanho em cm do lado do quadrado: 2\n",
            "4\n"
          ]
        }
      ]
    },
    {
      "cell_type": "markdown",
      "source": [
        "✅"
      ],
      "metadata": {
        "id": "0Opp1dWzw_5J"
      }
    },
    {
      "cell_type": "code",
      "source": [
        "t1, t2, t3, t4 = 0, 0, 0, 0\n",
        "t1, t2, t3, t4 = map(int, input(\"Digite o número de tomadas em cada régua: \").split())\n",
        "total = t1 + t2 + t3 + t4 - 3\n",
        "print(\"O número de tomadas é: \", total)"
      ],
      "metadata": {
        "id": "0_mDSOT9ghiE",
        "outputId": "6341af14-f8f9-4d56-8bbf-973191f0945a",
        "colab": {
          "base_uri": "https://localhost:8080/"
        }
      },
      "execution_count": 11,
      "outputs": [
        {
          "output_type": "stream",
          "name": "stdout",
          "text": [
            "Digite o número de tomadas em cada régua: 5 2 1 4\n",
            "O número de tomadas é:  9\n"
          ]
        }
      ]
    },
    {
      "cell_type": "markdown",
      "source": [
        "✅ Melhorar as mensagens de instrução para o usuário\n"
      ],
      "metadata": {
        "id": "l3znQMSLxgSl"
      }
    },
    {
      "cell_type": "code",
      "source": [
        "vi, troca, trocas, vf = 0,0,0,0\n",
        "vi, trocas = map(int, input('Digite o valor inicial e o número de trocas realizadas: ').split())\n",
        "vf = vi\n",
        "\n",
        "for i in range(trocas):\n",
        "  troca = int(input(\"Digite o valor de cada troca: \"))\n",
        "  vf += troca\n",
        "\n",
        "if vf < 0: vf = 0\n",
        "if vf > 100: vf = 100\n",
        "\n",
        "print(\"Valor final: \",vf)"
      ],
      "metadata": {
        "id": "QdcU_qA5zmzJ",
        "outputId": "48d8ce17-5b19-481a-feb2-352819d15509",
        "colab": {
          "base_uri": "https://localhost:8080/"
        }
      },
      "execution_count": 13,
      "outputs": [
        {
          "output_type": "stream",
          "name": "stdout",
          "text": [
            "Digite o valor inicial e o número de trocas realizadas: 5 2\n",
            "Digite o valor de cada troca: 2\n",
            "Digite o valor de cada troca: 3\n",
            "Valor final:  10\n"
          ]
        }
      ]
    },
    {
      "cell_type": "markdown",
      "source": [
        "✅ Melhorar as mensagens de instrução para o usuário"
      ],
      "metadata": {
        "id": "-3LMo3SJyDCv"
      }
    },
    {
      "cell_type": "code",
      "source": [
        "n = int(input('Quantos dias tem a lista? '))\n",
        "acessosDia = 0\n",
        "acessos = 0\n",
        "diasNecessários = 1\n",
        "\n",
        "for i in range(n):\n",
        "  acessosDia = int(input('Digite o números de acessos do dia: '))\n",
        "  acessos += acessosDia\n",
        "  if acessos < 1000000:\n",
        "    diasNecessários += 1\n",
        "\n",
        "  print('O número de dias que foram necessários é: ', diasNecessários)"
      ],
      "metadata": {
        "id": "QxwDXAmU6mN-",
        "outputId": "8efe9355-02c9-48a1-cd34-5ff573246a86",
        "colab": {
          "base_uri": "https://localhost:8080/"
        }
      },
      "execution_count": 14,
      "outputs": [
        {
          "output_type": "stream",
          "name": "stdout",
          "text": [
            "Quantos dias tem a lista? 2\n",
            "Digite o números de acessos do dia: 12\n",
            "O número de dias que foram necessários é:  2\n",
            "Digite o números de acessos do dia: 21\n",
            "O número de dias que foram necessários é:  3\n"
          ]
        }
      ]
    },
    {
      "cell_type": "code",
      "source": [
        "n = int(input('Digite o número de termos da sequência de 0 e 1: '))\n",
        "repeticoes = 0\n",
        "sequencia = []\n",
        "\n",
        "for i in range (n):\n",
        "  sequencia.append(int(input('Digite a sequência: ')))\n",
        "\n",
        "i = 0\n",
        "while i < n - 2:\n",
        "  if sequencia[i] == 1 and sequencia [i + 1] == 0 and sequencia[i + 2] == 0:\n",
        "    repeticoes += 1\n",
        "    i += 3\n",
        "  else: i += 1\n",
        "\n",
        "print('O número de repetições do número 100 é: ',repeticoes)\n"
      ],
      "metadata": {
        "id": "f7DKjJOcgKYQ",
        "outputId": "e7132ed0-1963-4c4c-cdda-47e0d81b2746",
        "colab": {
          "base_uri": "https://localhost:8080/"
        }
      },
      "execution_count": 16,
      "outputs": [
        {
          "output_type": "stream",
          "name": "stdout",
          "text": [
            "Digite o número de termos da sequência de 0 e 1: 2\n",
            "Digite a sequência: 1\n",
            "Digite a sequência: 1\n",
            "O número de repetições do número 100 é:  0\n"
          ]
        }
      ]
    },
    {
      "cell_type": "markdown",
      "source": [
        "✅ Melhorar as mensagens de instrução para o usuário"
      ],
      "metadata": {
        "id": "q-HSGnYgymgk"
      }
    },
    {
      "cell_type": "code",
      "source": [
        "n = int(input('Digite o número de vezes que um interruptor foi apertado: '))\n",
        "interruptor = 0\n",
        "la = False\n",
        "lb = False\n",
        "\n",
        "for i in range(n):\n",
        "  interruptor = int(input('Qual interruptor foi pressionado: '))\n",
        "  if interruptor == 1:\n",
        "      la = not la\n",
        "  if interruptor == 2:\n",
        "      la = not la\n",
        "      lb = not lb\n",
        "print('O interruptor A está aceso: ', la)\n",
        "print('O interruptor B está aceso: ', lb)"
      ],
      "metadata": {
        "id": "eRbvFZMgkEoI",
        "outputId": "fab00712-3c33-4e8e-bcdd-31dbbdd1446a",
        "colab": {
          "base_uri": "https://localhost:8080/"
        }
      },
      "execution_count": 17,
      "outputs": [
        {
          "output_type": "stream",
          "name": "stdout",
          "text": [
            "Digite o número de vezes que um interruptor foi apertado: 2\n",
            "Qual interruptor foi pressionado: 1\n",
            "Qual interruptor foi pressionado: 2\n",
            "O interruptor A está aceso:  False\n",
            "O interruptor B está aceso:  True\n"
          ]
        }
      ]
    },
    {
      "cell_type": "markdown",
      "source": [
        "✅ Melhorar as mensagens de instrução para o usuário"
      ],
      "metadata": {
        "id": "tGxMy45IywJk"
      }
    },
    {
      "cell_type": "code",
      "source": [
        "temp = 0\n",
        "nadadores = [[1, 0], [2, 0], [3, 0]]\n",
        "nadadores[0][1], nadadores[1][1], nadadores[2][1] = map(int, input('Digite o tempo para cada nadador terminar a prova: ').split())\n",
        "\n",
        "for i in range(2):\n",
        "    for j in range(i + 1, 3):\n",
        "        if nadadores[i][1] > nadadores[j][1]:\n",
        "            temp = nadadores[i][0]\n",
        "            nadadores[i][0] = nadadores[j][0]\n",
        "            nadadores[j][0] = temp\n",
        "\n",
        "            temp = nadadores[i][1]\n",
        "            nadadores[i][1] = nadadores[j][1]\n",
        "            nadadores[j][1] = temp\n",
        "print('A ordem do pódio foi: ')\n",
        "for i in range(3):\n",
        "    print(nadadores[i][0])"
      ],
      "metadata": {
        "id": "-jyhgwC-m2ax",
        "outputId": "0f606274-bb5d-4f99-dba0-9ec1d82082ba",
        "colab": {
          "base_uri": "https://localhost:8080/",
          "height": 252
        }
      },
      "execution_count": 18,
      "outputs": [
        {
          "name": "stdout",
          "output_type": "stream",
          "text": [
            "Digite o tempo para cada nadador terminar a prova: 1\n"
          ]
        },
        {
          "output_type": "error",
          "ename": "ValueError",
          "evalue": "ignored",
          "traceback": [
            "\u001b[0;31m---------------------------------------------------------------------------\u001b[0m",
            "\u001b[0;31mValueError\u001b[0m                                Traceback (most recent call last)",
            "\u001b[0;32m<ipython-input-18-3e01c5e21886>\u001b[0m in \u001b[0;36m<cell line: 3>\u001b[0;34m()\u001b[0m\n\u001b[1;32m      1\u001b[0m \u001b[0mtemp\u001b[0m \u001b[0;34m=\u001b[0m \u001b[0;36m0\u001b[0m\u001b[0;34m\u001b[0m\u001b[0;34m\u001b[0m\u001b[0m\n\u001b[1;32m      2\u001b[0m \u001b[0mnadadores\u001b[0m \u001b[0;34m=\u001b[0m \u001b[0;34m[\u001b[0m\u001b[0;34m[\u001b[0m\u001b[0;36m1\u001b[0m\u001b[0;34m,\u001b[0m \u001b[0;36m0\u001b[0m\u001b[0;34m]\u001b[0m\u001b[0;34m,\u001b[0m \u001b[0;34m[\u001b[0m\u001b[0;36m2\u001b[0m\u001b[0;34m,\u001b[0m \u001b[0;36m0\u001b[0m\u001b[0;34m]\u001b[0m\u001b[0;34m,\u001b[0m \u001b[0;34m[\u001b[0m\u001b[0;36m3\u001b[0m\u001b[0;34m,\u001b[0m \u001b[0;36m0\u001b[0m\u001b[0;34m]\u001b[0m\u001b[0;34m]\u001b[0m\u001b[0;34m\u001b[0m\u001b[0;34m\u001b[0m\u001b[0m\n\u001b[0;32m----> 3\u001b[0;31m \u001b[0mnadadores\u001b[0m\u001b[0;34m[\u001b[0m\u001b[0;36m0\u001b[0m\u001b[0;34m]\u001b[0m\u001b[0;34m[\u001b[0m\u001b[0;36m1\u001b[0m\u001b[0;34m]\u001b[0m\u001b[0;34m,\u001b[0m \u001b[0mnadadores\u001b[0m\u001b[0;34m[\u001b[0m\u001b[0;36m1\u001b[0m\u001b[0;34m]\u001b[0m\u001b[0;34m[\u001b[0m\u001b[0;36m1\u001b[0m\u001b[0;34m]\u001b[0m\u001b[0;34m,\u001b[0m \u001b[0mnadadores\u001b[0m\u001b[0;34m[\u001b[0m\u001b[0;36m2\u001b[0m\u001b[0;34m]\u001b[0m\u001b[0;34m[\u001b[0m\u001b[0;36m1\u001b[0m\u001b[0;34m]\u001b[0m \u001b[0;34m=\u001b[0m \u001b[0mmap\u001b[0m\u001b[0;34m(\u001b[0m\u001b[0mint\u001b[0m\u001b[0;34m,\u001b[0m \u001b[0minput\u001b[0m\u001b[0;34m(\u001b[0m\u001b[0;34m'Digite o tempo para cada nadador terminar a prova: '\u001b[0m\u001b[0;34m)\u001b[0m\u001b[0;34m.\u001b[0m\u001b[0msplit\u001b[0m\u001b[0;34m(\u001b[0m\u001b[0;34m)\u001b[0m\u001b[0;34m)\u001b[0m\u001b[0;34m\u001b[0m\u001b[0;34m\u001b[0m\u001b[0m\n\u001b[0m\u001b[1;32m      4\u001b[0m \u001b[0;34m\u001b[0m\u001b[0m\n\u001b[1;32m      5\u001b[0m \u001b[0;32mfor\u001b[0m \u001b[0mi\u001b[0m \u001b[0;32min\u001b[0m \u001b[0mrange\u001b[0m\u001b[0;34m(\u001b[0m\u001b[0;36m2\u001b[0m\u001b[0;34m)\u001b[0m\u001b[0;34m:\u001b[0m\u001b[0;34m\u001b[0m\u001b[0;34m\u001b[0m\u001b[0m\n",
            "\u001b[0;31mValueError\u001b[0m: not enough values to unpack (expected 3, got 1)"
          ]
        }
      ]
    },
    {
      "cell_type": "markdown",
      "source": [
        "✅ Melhorar as mensagens de instrução para o usuário"
      ],
      "metadata": {
        "id": "iprqND1ry1dn"
      }
    },
    {
      "cell_type": "code",
      "source": [
        "alunos, monitores = 0, 0\n",
        "alunos, monitores = map(int, input(\"Digite o número de alunos e monitores: \"). split())\n",
        "\n",
        "if alunos + monitores > 50: resultado = 0\n",
        "else: resultado = 1\n",
        "\n",
        "if resultado == 0: print(\"Não é possível\")\n",
        "if resultado == 1: print(\"É possível\")"
      ],
      "metadata": {
        "id": "G1BIE8O4qu0C",
        "outputId": "52c54f00-d958-4b35-c93a-8b4de42059ee",
        "colab": {
          "base_uri": "https://localhost:8080/"
        }
      },
      "execution_count": 19,
      "outputs": [
        {
          "output_type": "stream",
          "name": "stdout",
          "text": [
            "Digite o número de alunos e monitores: 2 1\n",
            "É possível\n"
          ]
        }
      ]
    },
    {
      "cell_type": "markdown",
      "source": [
        "✅ Melhorar as mensagens de instrução para o usuário"
      ],
      "metadata": {
        "id": "QfTRE-eLy9Li"
      }
    },
    {
      "cell_type": "code",
      "source": [
        "a, b, c = 0 , 0 , 0\n",
        "a, b, c = map(int, input(\"Escreva A, B e C, correspondentes às cartas abertas: \"). split())\n",
        "\n",
        "if a != b and a != c: print(a)\n",
        "elif a != b: print(b)\n",
        "else: print(c)\n"
      ],
      "metadata": {
        "id": "AgK6lt_Y1suC",
        "outputId": "f729e34a-5c9e-4482-e75f-b029e37c9204",
        "colab": {
          "base_uri": "https://localhost:8080/"
        }
      },
      "execution_count": 20,
      "outputs": [
        {
          "output_type": "stream",
          "name": "stdout",
          "text": [
            "Escreva A, B e C, correspondentes às cartas abertas: 1 2 3\n",
            "1\n"
          ]
        }
      ]
    },
    {
      "cell_type": "markdown",
      "source": [
        "✅ Melhorar as mensagens de instrução para o usuário"
      ],
      "metadata": {
        "id": "DczV2UMWzD9-"
      }
    },
    {
      "cell_type": "code",
      "source": [
        "n = 0\n",
        "m = 0\n",
        "indiceFigurinha = 0\n",
        "figurinhasRestantes = 0\n",
        "figurinhas = [False] * 100\n",
        "\n",
        "n = int(input('Digite o número total de figurinhas: '))\n",
        "m = int(input('Digite o número de figurinhas compradas: '))\n",
        "figurinhasRestantes = n\n",
        "\n",
        "for i in range(m):\n",
        "    indiceFigurinha = int(input('Digite o número da figurinha comprada: '))\n",
        "    if figurinhas[indiceFigurinha] == False:\n",
        "        figurinhas[indiceFigurinha] = True\n",
        "        figurinhasRestantes -= 1\n",
        "\n",
        "print('O número de figurinhas restantes é: ',figurinhasRestantes)"
      ],
      "metadata": {
        "id": "sJFSxjDqroh0",
        "outputId": "3fc633f7-1046-47a1-8db8-16c52bff8b4c",
        "colab": {
          "base_uri": "https://localhost:8080/"
        }
      },
      "execution_count": 21,
      "outputs": [
        {
          "output_type": "stream",
          "name": "stdout",
          "text": [
            "Digite o número total de figurinhas: 12\n",
            "Digite o número de figurinhas compradas: 5\n",
            "Digite o número da figurinha comprada: 2\n",
            "Digite o número da figurinha comprada: 1\n",
            "Digite o número da figurinha comprada: 3\n",
            "Digite o número da figurinha comprada: 4\n",
            "Digite o número da figurinha comprada: 1\n",
            "O número de figurinhas restantes é:  8\n"
          ]
        }
      ]
    },
    {
      "cell_type": "markdown",
      "source": [
        "✅ Melhorar as mensagens de instrução para o usuário"
      ],
      "metadata": {
        "id": "gdELE2AszQYx"
      }
    },
    {
      "cell_type": "code",
      "source": [],
      "metadata": {
        "id": "tYhvaLy_zRQH"
      },
      "execution_count": null,
      "outputs": []
    },
    {
      "cell_type": "markdown",
      "source": [
        "De maneira geral os algoritmos estão corretos e funcionando.\n",
        "\n",
        "*Avaliação e Melhorias propostas:*\n",
        "\n",
        "*   Como são exercícos avaliativos podereia ter o cabeçalho ou breve descrição de cada questão. (-0,25)\n",
        "*   Comentários de código (-0,25)\n",
        "*   Mensagens de instrução ao usuário (-0,50)\n",
        "*   Verificação e validação das entradas (só seguir se o valor for válido) (-0,50)\n",
        "\n",
        "#Nota: 8,5\n",
        "\n"
      ],
      "metadata": {
        "id": "IwstiOd_zTW6"
      }
    },
    {
      "cell_type": "code",
      "source": [],
      "metadata": {
        "id": "s_qiggwX04Z2"
      },
      "execution_count": null,
      "outputs": []
    }
  ]
}